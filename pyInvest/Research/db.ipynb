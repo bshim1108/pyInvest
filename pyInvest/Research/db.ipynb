{
 "cells": [
  {
   "cell_type": "code",
   "execution_count": 5,
   "id": "842b1ef1",
   "metadata": {
    "ExecuteTime": {
     "end_time": "2023-03-17T12:55:05.665010Z",
     "start_time": "2023-03-17T12:55:05.651752Z"
    }
   },
   "outputs": [],
   "source": [
    "import sqlite3"
   ]
  },
  {
   "cell_type": "code",
   "execution_count": null,
   "id": "bd27a74f",
   "metadata": {},
   "outputs": [],
   "source": [
    "db_file = '/Users/brandonshimiaie/Projects/pyInvest/sqlite/db/stock.db'\n",
    "conn = sqlite3.connect(db_file)"
   ]
  },
  {
   "cell_type": "code",
   "execution_count": 17,
   "id": "27d3ae00",
   "metadata": {
    "ExecuteTime": {
     "end_time": "2023-03-17T14:09:05.981082Z",
     "start_time": "2023-03-17T14:09:05.231046Z"
    }
   },
   "outputs": [
    {
     "data": {
      "text/plain": [
       "<sqlite3.Cursor at 0x7fd989dc91f0>"
      ]
     },
     "execution_count": 17,
     "metadata": {},
     "output_type": "execute_result"
    }
   ],
   "source": [
    "conn.execute(\n",
    "    '''\n",
    "    DROP TABLE BARS\n",
    "    '''\n",
    ")"
   ]
  },
  {
   "cell_type": "code",
   "execution_count": 18,
   "id": "0d1a9e63",
   "metadata": {
    "ExecuteTime": {
     "end_time": "2023-03-17T14:09:06.534630Z",
     "start_time": "2023-03-17T14:09:06.523162Z"
    }
   },
   "outputs": [
    {
     "data": {
      "text/plain": [
       "<sqlite3.Cursor at 0x7fd989dc9420>"
      ]
     },
     "execution_count": 18,
     "metadata": {},
     "output_type": "execute_result"
    }
   ],
   "source": [
    "conn.execute(\n",
    "    '''\n",
    "    CREATE TABLE IF NOT EXISTS BARS\n",
    "    (\n",
    "        TICKER       TEXT       NOT NULL,\n",
    "        DATETIME     TEXT       NOT NULL,\n",
    "        DATE         TEXT       NOT NULL,\n",
    "        OPEN         FLOAT,\n",
    "        HIGH         FLOAT,\n",
    "        LOW          FLOAT,\n",
    "        CLOSE        FLOAT,\n",
    "        VOLUME       INTEGER,\n",
    "        TRADECOUNT   INTEGER,\n",
    "        VWAP         FLOAT,\n",
    "        PRIMARY KEY (TICKER, DATETIME)\n",
    "    );\n",
    "    '''\n",
    ")"
   ]
  },
  {
   "cell_type": "code",
   "execution_count": null,
   "id": "6eb3cd19",
   "metadata": {},
   "outputs": [],
   "source": []
  }
 ],
 "metadata": {
  "kernelspec": {
   "display_name": "venv",
   "language": "python",
   "name": "venv"
  },
  "language_info": {
   "codemirror_mode": {
    "name": "ipython",
    "version": 3
   },
   "file_extension": ".py",
   "mimetype": "text/x-python",
   "name": "python",
   "nbconvert_exporter": "python",
   "pygments_lexer": "ipython3",
   "version": "3.9.2"
  }
 },
 "nbformat": 4,
 "nbformat_minor": 5
}
